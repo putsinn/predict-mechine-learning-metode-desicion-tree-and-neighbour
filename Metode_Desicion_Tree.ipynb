{
  "nbformat": 4,
  "nbformat_minor": 0,
  "metadata": {
    "colab": {
      "provenance": []
    },
    "kernelspec": {
      "name": "python3",
      "display_name": "Python 3"
    },
    "language_info": {
      "name": "python"
    }
  },
  "cells": [
    {
      "cell_type": "code",
      "execution_count": 3,
      "metadata": {
        "colab": {
          "base_uri": "https://localhost:8080/"
        },
        "id": "bHGwCjfQ0QVl",
        "outputId": "89e6bbbf-bec4-4506-98f9-ff6e888f72aa"
      },
      "outputs": [
        {
          "output_type": "stream",
          "name": "stdout",
          "text": [
            "Logika AND Metode Desicion Tree\n",
            "Logika = Prediksi\n",
            "0 0 =  [0]\n",
            "0 1 =  [0]\n",
            "1 0 =  [0]\n",
            "1 1 =  [1]\n",
            "2 0 =  [0]\n",
            "2 1 =  [0]\n",
            "3 0 =  [1]\n",
            "3 1 =  [0]\n",
            "1 3 =  [0]\n",
            "2 2 =  [1]\n"
          ]
        }
      ],
      "source": [
        "\n",
        "from sklearn import tree\n",
        "\n",
        "# Database: Gerbang logika AND\n",
        "# x = Data, Y = Target\n",
        "x = [[0,0], [0,1], [1,0], [1,1], [2,0], [2,1], [3,0], [3,1], [1,3], [2,2]]\n",
        "y = [0,0,0,1,0,0,1,0,0,1]\n",
        "\n",
        "# Training and Classify\n",
        "clf = tree.DecisionTreeClassifier()\n",
        "clf = clf.fit(x,y)\n",
        "\n",
        "# Prediksi\n",
        "print (\"Logika AND Metode Desicion Tree\")\n",
        "print (\"Logika = Prediksi\")\n",
        "print (\"0 0 = \", clf.predict([[0,0]]))\n",
        "print (\"0 1 = \", clf.predict([[0,1]]))\n",
        "print (\"1 0 = \", clf.predict([[1,0]]))\n",
        "print (\"1 1 = \", clf.predict([[1,1]]))\n",
        "print (\"2 0 = \", clf.predict([[2,0]]))\n",
        "print (\"2 1 = \", clf.predict([[2,1]]))\n",
        "print (\"3 0 = \", clf.predict([[3,0]]))\n",
        "print (\"3 1 = \", clf.predict([[3,1]]))\n",
        "print (\"1 3 = \", clf.predict([[1,3]]))\n",
        "print (\"2 2 = \", clf.predict([[2,2]]))"
      ]
    }
  ]
}